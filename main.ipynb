{
 "cells": [
  {
   "cell_type": "markdown",
   "metadata": {},
   "source": [
    "# GitOps Flow with MLRun"
   ]
  },
  {
   "cell_type": "code",
   "execution_count": 3,
   "metadata": {},
   "outputs": [],
   "source": [
    "# !pip install s3fs"
   ]
  },
  {
   "cell_type": "markdown",
   "metadata": {},
   "source": [
    "## Setup Project"
   ]
  },
  {
   "cell_type": "code",
   "execution_count": 15,
   "metadata": {
    "tags": []
   },
   "outputs": [
    {
     "name": "stdout",
     "output_type": "stream",
     "text": [
      "> 2025-02-03 23:31:20,197 [warning] Overwriting artifact old db_key 'model' with new key 'model' - artifact can be fetched using the new key only\n",
      "Project Source: v3io:///bigdata/cicd-flow.zip\n",
      "Exporting project as zip archive to v3io:///bigdata/cicd-flow.zip...\n",
      "> 2025-02-03 23:31:22,222 [info] Project loaded successfully: {\"project_name\":\"cicd-flow\"}\n"
     ]
    }
   ],
   "source": [
    "import os\n",
    "import json\n",
    "import mlrun\n",
    "import pandas as pd\n",
    "\n",
    "from config import AppConfig\n",
    "\n",
    "config = AppConfig()\n",
    "\n",
    "project = mlrun.get_or_create_project(\n",
    "    name=config.project_name,\n",
    "    parameters={\n",
    "        \"source\" : config.archive_source,\n",
    "        \"secrets_file\" : config.secrets_file,\n",
    "        \"artifact_path\" : config.artifact_path,\n",
    "        \"force_build\" : False\n",
    "    }\n",
    ")"
   ]
  },
  {
   "cell_type": "markdown",
   "metadata": {},
   "source": [
    "## Log Training Set"
   ]
  },
  {
   "cell_type": "code",
   "execution_count": 3,
   "metadata": {},
   "outputs": [
    {
     "data": {
      "text/plain": [
       "'store://datasets/cicd-flow/heart#0@e26fdef1f591c1c6b03296df074095b98451e89c'"
      ]
     },
     "execution_count": 3,
     "metadata": {},
     "output_type": "execute_result"
    }
   ],
   "source": [
    "dataset = project.log_dataset(key=\"heart\", df=pd.read_csv(config.source_url))\n",
    "dataset.uri"
   ]
  },
  {
   "cell_type": "markdown",
   "metadata": {},
   "source": [
    "## Run Training Pipeline"
   ]
  },
  {
   "cell_type": "code",
   "execution_count": 4,
   "metadata": {},
   "outputs": [
    {
     "data": {
      "text/plain": [
       "{'source_url': 'store://datasets/cicd-flow/heart#0@e26fdef1f591c1c6b03296df074095b98451e89c',\n",
       " 'label_column': 'target',\n",
       " 'allow_validation_failure': True,\n",
       " 'ohe_columns': ['sex', 'cp', 'slope', 'thal', 'restecg'],\n",
       " 'test_size': 0.2}"
      ]
     },
     "execution_count": 4,
     "metadata": {},
     "output_type": "execute_result"
    }
   ],
   "source": [
    "train_config = config.get_workflow_config(\n",
    "    workflow_name=\"train\",\n",
    "    source_url=dataset.uri\n",
    ")\n",
    "train_config"
   ]
  },
  {
   "cell_type": "code",
   "execution_count": 5,
   "metadata": {},
   "outputs": [],
   "source": [
    "project.notifiers.add_notification(notification_type=\"slack\", params={\"webhook\": os.getenv(\"SLACK_WEBHOOK_URL\")})"
   ]
  },
  {
   "cell_type": "code",
   "execution_count": 6,
   "metadata": {},
   "outputs": [
    {
     "name": "stdout",
     "output_type": "stream",
     "text": [
      "> 2025-02-03 23:16:03,987 [warning] WARNING!, You seem to have uncommitted git changes, use .push()\n",
      "> 2025-02-03 23:16:05,608 [info] Pipeline submitted successfully: {\"id\":\"1e587e9e-f0e3-4ddd-9566-b7d7ff655841\",\"pipeline_name\":\"cicd-flow-train 2025-02-03 23-16-04\"}\n",
      "> 2025-02-03 23:16:05,609 [info] Pipeline run id=1e587e9e-f0e3-4ddd-9566-b7d7ff655841, check UI for progress\n"
     ]
    },
    {
     "data": {
      "text/html": [
       "Workflow started in project cicd-flow id=1e587e9e-f0e3-4ddd-9566-b7d7ff655841<div><a href=\"https://dashboard.default-tenant.app.cst-360.iguazio-cd0.com/mlprojects/cicd-flow/jobs/monitor-workflows/workflow/1e587e9e-f0e3-4ddd-9566-b7d7ff655841\" target=\"_blank\">click here to view progress</a></div>"
      ],
      "text/plain": [
       "<IPython.core.display.HTML object>"
      ]
     },
     "metadata": {},
     "output_type": "display_data"
    },
    {
     "data": {
      "text/html": [
       "<div>Pipeline running (id=1e587e9e-f0e3-4ddd-9566-b7d7ff655841), <a href=\"https://dashboard.default-tenant.app.cst-360.iguazio-cd0.com/mlprojects/cicd-flow/jobs/monitor-workflows/workflow/1e587e9e-f0e3-4ddd-9566-b7d7ff655841\" target=\"_blank\"><b>click here</b></a> to view the details in MLRun UI</div>"
      ],
      "text/plain": [
       "<IPython.core.display.HTML object>"
      ]
     },
     "metadata": {},
     "output_type": "display_data"
    },
    {
     "data": {
      "image/svg+xml": [
       "<?xml version=\"1.0\" encoding=\"UTF-8\" standalone=\"no\"?>\n",
       "<!DOCTYPE svg PUBLIC \"-//W3C//DTD SVG 1.1//EN\"\n",
       " \"http://www.w3.org/Graphics/SVG/1.1/DTD/svg11.dtd\">\n",
       "<!-- Generated by graphviz version 2.43.0 (0)\n",
       " -->\n",
       "<!-- Title: kfp Pages: 1 -->\n",
       "<svg width=\"8pt\" height=\"8pt\"\n",
       " viewBox=\"0.00 0.00 8.00 8.00\" xmlns=\"http://www.w3.org/2000/svg\" xmlns:xlink=\"http://www.w3.org/1999/xlink\">\n",
       "<g id=\"graph0\" class=\"graph\" transform=\"scale(1 1) rotate(0) translate(4 4)\">\n",
       "<title>kfp</title>\n",
       "<polygon fill=\"white\" stroke=\"transparent\" points=\"-4,4 -4,-4 4,-4 4,4 -4,4\"/>\n",
       "</g>\n",
       "</svg>\n"
      ],
      "text/plain": [
       "<graphviz.graphs.Digraph at 0x7fc795292340>"
      ]
     },
     "metadata": {},
     "output_type": "display_data"
    },
    {
     "name": "stdout",
     "output_type": "stream",
     "text": [
      "> 2025-02-03 23:16:05,793 [info] Started run workflow cicd-flow-train with run id = '1e587e9e-f0e3-4ddd-9566-b7d7ff655841' by kfp engine\n",
      "> 2025-02-03 23:16:05,794 [info] Waiting for pipeline run completion: {\"project\":\"cicd-flow\",\"run_id\":\"1e587e9e-f0e3-4ddd-9566-b7d7ff655841\"}\n"
     ]
    },
    {
     "data": {
      "image/svg+xml": [
       "<?xml version=\"1.0\" encoding=\"UTF-8\" standalone=\"no\"?>\n",
       "<!DOCTYPE svg PUBLIC \"-//W3C//DTD SVG 1.1//EN\"\n",
       " \"http://www.w3.org/Graphics/SVG/1.1/DTD/svg11.dtd\">\n",
       "<!-- Generated by graphviz version 2.43.0 (0)\n",
       " -->\n",
       "<!-- Title: kfp Pages: 1 -->\n",
       "<svg width=\"656pt\" height=\"404pt\"\n",
       " viewBox=\"0.00 0.00 655.97 404.00\" xmlns=\"http://www.w3.org/2000/svg\" xmlns:xlink=\"http://www.w3.org/1999/xlink\">\n",
       "<g id=\"graph0\" class=\"graph\" transform=\"scale(1 1) rotate(0) translate(4 400)\">\n",
       "<title>kfp</title>\n",
       "<polygon fill=\"white\" stroke=\"transparent\" points=\"-4,4 -4,-400 651.97,-400 651.97,4 -4,4\"/>\n",
       "<!-- gitops&#45;training&#45;pipeline&#45;kzc2m&#45;240898132 -->\n",
       "<g id=\"node1\" class=\"node\">\n",
       "<title>gitops&#45;training&#45;pipeline&#45;kzc2m&#45;240898132</title>\n",
       "<ellipse fill=\"green\" stroke=\"black\" cx=\"342.29\" cy=\"-234\" rx=\"92.88\" ry=\"18\"/>\n",
       "<text text-anchor=\"middle\" x=\"342.29\" y=\"-230.3\" font-family=\"Times,serif\" font-size=\"14.00\">data&#45;process&#45;data</text>\n",
       "</g>\n",
       "<!-- gitops&#45;training&#45;pipeline&#45;kzc2m&#45;3710613863 -->\n",
       "<g id=\"node2\" class=\"node\">\n",
       "<title>gitops&#45;training&#45;pipeline&#45;kzc2m&#45;3710613863</title>\n",
       "<ellipse fill=\"green\" stroke=\"black\" cx=\"157.29\" cy=\"-162\" rx=\"157.07\" ry=\"18\"/>\n",
       "<text text-anchor=\"middle\" x=\"157.29\" y=\"-158.3\" font-family=\"Times,serif\" font-size=\"14.00\">validate&#45;validate&#45;train&#45;test&#45;split</text>\n",
       "</g>\n",
       "<!-- gitops&#45;training&#45;pipeline&#45;kzc2m&#45;240898132&#45;&gt;gitops&#45;training&#45;pipeline&#45;kzc2m&#45;3710613863 -->\n",
       "<g id=\"edge1\" class=\"edge\">\n",
       "<title>gitops&#45;training&#45;pipeline&#45;kzc2m&#45;240898132&#45;&gt;gitops&#45;training&#45;pipeline&#45;kzc2m&#45;3710613863</title>\n",
       "<path fill=\"none\" stroke=\"black\" d=\"M301.69,-217.64C274.83,-207.48 239.35,-194.05 210.28,-183.05\"/>\n",
       "<polygon fill=\"black\" stroke=\"black\" points=\"211.28,-179.69 200.69,-179.42 208.81,-186.24 211.28,-179.69\"/>\n",
       "</g>\n",
       "<!-- gitops&#45;training&#45;pipeline&#45;kzc2m&#45;2629168413 -->\n",
       "<g id=\"node3\" class=\"node\">\n",
       "<title>gitops&#45;training&#45;pipeline&#45;kzc2m&#45;2629168413</title>\n",
       "<ellipse fill=\"green\" stroke=\"black\" cx=\"319.29\" cy=\"-90\" rx=\"33.29\" ry=\"18\"/>\n",
       "<text text-anchor=\"middle\" x=\"319.29\" y=\"-86.3\" font-family=\"Times,serif\" font-size=\"14.00\">train</text>\n",
       "</g>\n",
       "<!-- gitops&#45;training&#45;pipeline&#45;kzc2m&#45;240898132&#45;&gt;gitops&#45;training&#45;pipeline&#45;kzc2m&#45;2629168413 -->\n",
       "<g id=\"edge2\" class=\"edge\">\n",
       "<title>gitops&#45;training&#45;pipeline&#45;kzc2m&#45;240898132&#45;&gt;gitops&#45;training&#45;pipeline&#45;kzc2m&#45;2629168413</title>\n",
       "<path fill=\"none\" stroke=\"black\" d=\"M339.51,-215.87C335.59,-191.67 328.39,-147.21 323.72,-118.39\"/>\n",
       "<polygon fill=\"black\" stroke=\"black\" points=\"327.12,-117.5 322.07,-108.19 320.21,-118.62 327.12,-117.5\"/>\n",
       "</g>\n",
       "<!-- gitops&#45;training&#45;pipeline&#45;kzc2m&#45;996931756 -->\n",
       "<g id=\"node4\" class=\"node\">\n",
       "<title>gitops&#45;training&#45;pipeline&#45;kzc2m&#45;996931756</title>\n",
       "<ellipse fill=\"green\" stroke=\"black\" cx=\"349.29\" cy=\"-18\" rx=\"118.88\" ry=\"18\"/>\n",
       "<text text-anchor=\"middle\" x=\"349.29\" y=\"-14.3\" font-family=\"Times,serif\" font-size=\"14.00\">validate&#45;validate&#45;model</text>\n",
       "</g>\n",
       "<!-- gitops&#45;training&#45;pipeline&#45;kzc2m&#45;240898132&#45;&gt;gitops&#45;training&#45;pipeline&#45;kzc2m&#45;996931756 -->\n",
       "<g id=\"edge3\" class=\"edge\">\n",
       "<title>gitops&#45;training&#45;pipeline&#45;kzc2m&#45;240898132&#45;&gt;gitops&#45;training&#45;pipeline&#45;kzc2m&#45;996931756</title>\n",
       "<path fill=\"none\" stroke=\"black\" d=\"M346.96,-215.62C354.3,-186.1 367.13,-124.31 361.29,-72 360.33,-63.43 358.52,-54.22 356.6,-45.93\"/>\n",
       "<polygon fill=\"black\" stroke=\"black\" points=\"359.95,-44.89 354.16,-36.02 353.15,-46.57 359.95,-44.89\"/>\n",
       "</g>\n",
       "<!-- gitops&#45;training&#45;pipeline&#45;kzc2m&#45;3710613863&#45;&gt;gitops&#45;training&#45;pipeline&#45;kzc2m&#45;2629168413 -->\n",
       "<g id=\"edge5\" class=\"edge\">\n",
       "<title>gitops&#45;training&#45;pipeline&#45;kzc2m&#45;3710613863&#45;&gt;gitops&#45;training&#45;pipeline&#45;kzc2m&#45;2629168413</title>\n",
       "<path fill=\"none\" stroke=\"black\" d=\"M195.68,-144.41C222.56,-132.8 258.19,-117.4 284.29,-106.12\"/>\n",
       "<polygon fill=\"black\" stroke=\"black\" points=\"286,-109.2 293.79,-102.02 283.22,-102.77 286,-109.2\"/>\n",
       "</g>\n",
       "<!-- gitops&#45;training&#45;pipeline&#45;kzc2m&#45;2629168413&#45;&gt;gitops&#45;training&#45;pipeline&#45;kzc2m&#45;996931756 -->\n",
       "<g id=\"edge4\" class=\"edge\">\n",
       "<title>gitops&#45;training&#45;pipeline&#45;kzc2m&#45;2629168413&#45;&gt;gitops&#45;training&#45;pipeline&#45;kzc2m&#45;996931756</title>\n",
       "<path fill=\"none\" stroke=\"black\" d=\"M326.4,-72.41C329.81,-64.45 333.98,-54.72 337.82,-45.76\"/>\n",
       "<polygon fill=\"black\" stroke=\"black\" points=\"341.09,-47.02 341.81,-36.45 334.65,-44.26 341.09,-47.02\"/>\n",
       "</g>\n",
       "<!-- gitops&#45;training&#45;pipeline&#45;kzc2m&#45;3767488015 -->\n",
       "<g id=\"node5\" class=\"node\">\n",
       "<title>gitops&#45;training&#45;pipeline&#45;kzc2m&#45;3767488015</title>\n",
       "<ellipse fill=\"green\" stroke=\"black\" cx=\"270.29\" cy=\"-378\" rx=\"72.59\" ry=\"18\"/>\n",
       "<text text-anchor=\"middle\" x=\"270.29\" y=\"-374.3\" font-family=\"Times,serif\" font-size=\"14.00\">data&#45;get&#45;data</text>\n",
       "</g>\n",
       "<!-- gitops&#45;training&#45;pipeline&#45;kzc2m&#45;3767488015&#45;&gt;gitops&#45;training&#45;pipeline&#45;kzc2m&#45;240898132 -->\n",
       "<g id=\"edge8\" class=\"edge\">\n",
       "<title>gitops&#45;training&#45;pipeline&#45;kzc2m&#45;3767488015&#45;&gt;gitops&#45;training&#45;pipeline&#45;kzc2m&#45;240898132</title>\n",
       "<path fill=\"none\" stroke=\"black\" d=\"M244.03,-361.02C231.62,-351.89 218.07,-339.22 211.29,-324 204.77,-309.39 202.34,-301.27 211.29,-288 223.71,-269.57 243.76,-257.54 264.47,-249.7\"/>\n",
       "<polygon fill=\"black\" stroke=\"black\" points=\"265.71,-252.97 274.01,-246.38 263.41,-246.36 265.71,-252.97\"/>\n",
       "</g>\n",
       "<!-- gitops&#45;training&#45;pipeline&#45;kzc2m&#45;3871656092 -->\n",
       "<g id=\"node6\" class=\"node\">\n",
       "<title>gitops&#45;training&#45;pipeline&#45;kzc2m&#45;3871656092</title>\n",
       "<ellipse fill=\"green\" stroke=\"black\" cx=\"270.29\" cy=\"-306\" rx=\"50.09\" ry=\"18\"/>\n",
       "<text text-anchor=\"middle\" x=\"270.29\" y=\"-302.3\" font-family=\"Times,serif\" font-size=\"14.00\">describe</text>\n",
       "</g>\n",
       "<!-- gitops&#45;training&#45;pipeline&#45;kzc2m&#45;3767488015&#45;&gt;gitops&#45;training&#45;pipeline&#45;kzc2m&#45;3871656092 -->\n",
       "<g id=\"edge6\" class=\"edge\">\n",
       "<title>gitops&#45;training&#45;pipeline&#45;kzc2m&#45;3767488015&#45;&gt;gitops&#45;training&#45;pipeline&#45;kzc2m&#45;3871656092</title>\n",
       "<path fill=\"none\" stroke=\"black\" d=\"M270.29,-359.7C270.29,-351.98 270.29,-342.71 270.29,-334.11\"/>\n",
       "<polygon fill=\"black\" stroke=\"black\" points=\"273.79,-334.1 270.29,-324.1 266.79,-334.1 273.79,-334.1\"/>\n",
       "</g>\n",
       "<!-- gitops&#45;training&#45;pipeline&#45;kzc2m&#45;4096405645 -->\n",
       "<g id=\"node7\" class=\"node\">\n",
       "<title>gitops&#45;training&#45;pipeline&#45;kzc2m&#45;4096405645</title>\n",
       "<ellipse fill=\"green\" stroke=\"black\" cx=\"493.29\" cy=\"-306\" rx=\"154.87\" ry=\"18\"/>\n",
       "<text text-anchor=\"middle\" x=\"493.29\" y=\"-302.3\" font-family=\"Times,serif\" font-size=\"14.00\">validate&#45;validate&#45;data&#45;integrity</text>\n",
       "</g>\n",
       "<!-- gitops&#45;training&#45;pipeline&#45;kzc2m&#45;3767488015&#45;&gt;gitops&#45;training&#45;pipeline&#45;kzc2m&#45;4096405645 -->\n",
       "<g id=\"edge7\" class=\"edge\">\n",
       "<title>gitops&#45;training&#45;pipeline&#45;kzc2m&#45;3767488015&#45;&gt;gitops&#45;training&#45;pipeline&#45;kzc2m&#45;4096405645</title>\n",
       "<path fill=\"none\" stroke=\"black\" d=\"M313.55,-363.42C347.27,-352.84 394.51,-338.01 432.1,-326.21\"/>\n",
       "<polygon fill=\"black\" stroke=\"black\" points=\"433.44,-329.45 441.93,-323.12 431.34,-322.78 433.44,-329.45\"/>\n",
       "</g>\n",
       "<!-- gitops&#45;training&#45;pipeline&#45;kzc2m&#45;4096405645&#45;&gt;gitops&#45;training&#45;pipeline&#45;kzc2m&#45;240898132 -->\n",
       "<g id=\"edge9\" class=\"edge\">\n",
       "<title>gitops&#45;training&#45;pipeline&#45;kzc2m&#45;4096405645&#45;&gt;gitops&#45;training&#45;pipeline&#45;kzc2m&#45;240898132</title>\n",
       "<path fill=\"none\" stroke=\"black\" d=\"M457.5,-288.41C435.96,-278.43 408.39,-265.65 385.63,-255.09\"/>\n",
       "<polygon fill=\"black\" stroke=\"black\" points=\"387.06,-251.9 376.52,-250.87 384.12,-258.25 387.06,-251.9\"/>\n",
       "</g>\n",
       "</g>\n",
       "</svg>\n"
      ],
      "text/plain": [
       "<graphviz.graphs.Digraph at 0x7fc78b521f70>"
      ]
     },
     "metadata": {},
     "output_type": "display_data"
    },
    {
     "data": {
      "text/html": [
       "<h2>Run Results</h2><h3>[info] Workflow 1e587e9e-f0e3-4ddd-9566-b7d7ff655841 finished, state=Succeeded</h3><br>click the hyper links below to see detailed results<br><table border=\"1\" class=\"dataframe\">\n",
       "  <thead>\n",
       "    <tr style=\"text-align: right;\">\n",
       "      <th>uid</th>\n",
       "      <th>start</th>\n",
       "      <th>state</th>\n",
       "      <th>kind</th>\n",
       "      <th>name</th>\n",
       "      <th>parameters</th>\n",
       "      <th>results</th>\n",
       "    </tr>\n",
       "  </thead>\n",
       "  <tbody>\n",
       "    <tr>\n",
       "      <td><div title=\"0aff4cd2ab864badb58a5f0949666784\"><a href=\"https://dashboard.default-tenant.app.cst-360.iguazio-cd0.com/mlprojects/cicd-flow/jobs/monitor/0aff4cd2ab864badb58a5f0949666784/overview\" target=\"_blank\" >...49666784</a></div></td>\n",
       "      <td>Feb 03 23:19:08</td>\n",
       "      <td>completed</td>\n",
       "      <td>run</td>\n",
       "      <td>validate-validate-model</td>\n",
       "      <td><div class=\"dictlist\">model_path=store://models/cicd-flow/model:latest@1e587e9e-f0e3-4ddd-9566-b7d7ff655841</div><div class=\"dictlist\">label_column=target</div><div class=\"dictlist\">allow_validation_failure=True</div></td>\n",
       "      <td><div class=\"dictlist\">passed_suite=False</div></td>\n",
       "    </tr>\n",
       "    <tr>\n",
       "      <td><div title=\"9e1535b2de19433cad833825f19ac1da\"><a href=\"https://dashboard.default-tenant.app.cst-360.iguazio-cd0.com/mlprojects/cicd-flow/jobs/monitor/9e1535b2de19433cad833825f19ac1da/overview\" target=\"_blank\" >...f19ac1da</a></div></td>\n",
       "      <td>Feb 03 23:18:14</td>\n",
       "      <td>completed</td>\n",
       "      <td>run</td>\n",
       "      <td>train</td>\n",
       "      <td><div class=\"dictlist\">label_column=target</div></td>\n",
       "      <td><div class=\"dictlist\">best_iteration=2</div><div class=\"dictlist\">accuracy=0.8771929824561403</div><div class=\"dictlist\">f1_score=0.8771929824561403</div><div class=\"dictlist\">precision_score=0.8333333333333334</div><div class=\"dictlist\">recall_score=0.9259259259259259</div></td>\n",
       "    </tr>\n",
       "    <tr>\n",
       "      <td><div title=\"ea679d91415549618acb2d6fd23e1d62\"><a href=\"https://dashboard.default-tenant.app.cst-360.iguazio-cd0.com/mlprojects/cicd-flow/jobs/monitor/ea679d91415549618acb2d6fd23e1d62/overview\" target=\"_blank\" >...d23e1d62</a></div></td>\n",
       "      <td>Feb 03 23:17:42</td>\n",
       "      <td>completed</td>\n",
       "      <td>run</td>\n",
       "      <td>validate-validate-train-test-split</td>\n",
       "      <td><div class=\"dictlist\">label_column=target</div><div class=\"dictlist\">allow_validation_failure=True</div></td>\n",
       "      <td><div class=\"dictlist\">passed_suite=False</div></td>\n",
       "    </tr>\n",
       "    <tr>\n",
       "      <td><div title=\"4302f4f79e0145d78358559930ec7658\"><a href=\"https://dashboard.default-tenant.app.cst-360.iguazio-cd0.com/mlprojects/cicd-flow/jobs/monitor/4302f4f79e0145d78358559930ec7658/overview\" target=\"_blank\" >...30ec7658</a></div></td>\n",
       "      <td>Feb 03 23:17:12</td>\n",
       "      <td>completed</td>\n",
       "      <td>run</td>\n",
       "      <td>data-process-data</td>\n",
       "      <td><div class=\"dictlist\">label_column=target</div><div class=\"dictlist\">test_size=0.2</div><div class=\"dictlist\">ohe_columns=['sex', 'cp', 'slope', 'thal', 'restecg']</div></td>\n",
       "      <td></td>\n",
       "    </tr>\n",
       "    <tr>\n",
       "      <td><div title=\"a9e20fd415e34a6bb94f5037f561ab58\"><a href=\"https://dashboard.default-tenant.app.cst-360.iguazio-cd0.com/mlprojects/cicd-flow/jobs/monitor/a9e20fd415e34a6bb94f5037f561ab58/overview\" target=\"_blank\" >...f561ab58</a></div></td>\n",
       "      <td>Feb 03 23:16:44</td>\n",
       "      <td>completed</td>\n",
       "      <td>run</td>\n",
       "      <td>describe</td>\n",
       "      <td><div class=\"dictlist\">label_column=target</div></td>\n",
       "      <td></td>\n",
       "    </tr>\n",
       "    <tr>\n",
       "      <td><div title=\"58484cb6df6b40baadceaf170d7e5537\"><a href=\"https://dashboard.default-tenant.app.cst-360.iguazio-cd0.com/mlprojects/cicd-flow/jobs/monitor/58484cb6df6b40baadceaf170d7e5537/overview\" target=\"_blank\" >...0d7e5537</a></div></td>\n",
       "      <td>Feb 03 23:16:44</td>\n",
       "      <td>completed</td>\n",
       "      <td>run</td>\n",
       "      <td>validate-validate-data-integrity</td>\n",
       "      <td><div class=\"dictlist\">label_column=target</div><div class=\"dictlist\">allow_validation_failure=True</div></td>\n",
       "      <td><div class=\"dictlist\">passed_suite=True</div></td>\n",
       "    </tr>\n",
       "    <tr>\n",
       "      <td><div title=\"bb388888798045aba8b6daa521519d65\"><a href=\"https://dashboard.default-tenant.app.cst-360.iguazio-cd0.com/mlprojects/cicd-flow/jobs/monitor/bb388888798045aba8b6daa521519d65/overview\" target=\"_blank\" >...21519d65</a></div></td>\n",
       "      <td>Feb 03 23:16:16</td>\n",
       "      <td>completed</td>\n",
       "      <td>run</td>\n",
       "      <td>data-get-data</td>\n",
       "      <td></td>\n",
       "      <td></td>\n",
       "    </tr>\n",
       "  </tbody>\n",
       "</table>"
      ],
      "text/plain": [
       "<IPython.core.display.HTML object>"
      ]
     },
     "metadata": {},
     "output_type": "display_data"
    }
   ],
   "source": [
    "run_id = project.run(\n",
    "    name=\"train\",\n",
    "    arguments=train_config,\n",
    "    dirty=True,\n",
    "    watch=True\n",
    ")"
   ]
  },
  {
   "cell_type": "markdown",
   "metadata": {
    "tags": []
   },
   "source": [
    "## Run Deployment Pipeline"
   ]
  },
  {
   "cell_type": "code",
   "execution_count": 16,
   "metadata": {},
   "outputs": [],
   "source": [
    "deploy_config = config.get_workflow_config(workflow_name=\"deploy\")"
   ]
  },
  {
   "cell_type": "code",
   "execution_count": 17,
   "metadata": {},
   "outputs": [
    {
     "name": "stdout",
     "output_type": "stream",
     "text": [
      "> 2025-02-03 23:31:26,864 [warning] WARNING!, You seem to have uncommitted git changes, use .push()\n",
      "> 2025-02-03 23:31:27,489 [info] Pipeline submitted successfully: {\"id\":\"19b60085-fbdb-4c71-9cdf-49e8d8280ca7\",\"pipeline_name\":\"cicd-flow-deploy 2025-02-03 23-31-27\"}\n",
      "> 2025-02-03 23:31:27,490 [info] Pipeline run id=19b60085-fbdb-4c71-9cdf-49e8d8280ca7, check UI for progress\n"
     ]
    },
    {
     "data": {
      "text/html": [
       "Workflow started in project cicd-flow id=19b60085-fbdb-4c71-9cdf-49e8d8280ca7<div><a href=\"https://dashboard.default-tenant.app.cst-360.iguazio-cd0.com/mlprojects/cicd-flow/jobs/monitor-workflows/workflow/19b60085-fbdb-4c71-9cdf-49e8d8280ca7\" target=\"_blank\">click here to view progress</a></div>"
      ],
      "text/plain": [
       "<IPython.core.display.HTML object>"
      ]
     },
     "metadata": {},
     "output_type": "display_data"
    },
    {
     "data": {
      "text/html": [
       "<div>Pipeline running (id=19b60085-fbdb-4c71-9cdf-49e8d8280ca7), <a href=\"https://dashboard.default-tenant.app.cst-360.iguazio-cd0.com/mlprojects/cicd-flow/jobs/monitor-workflows/workflow/19b60085-fbdb-4c71-9cdf-49e8d8280ca7\" target=\"_blank\"><b>click here</b></a> to view the details in MLRun UI</div>"
      ],
      "text/plain": [
       "<IPython.core.display.HTML object>"
      ]
     },
     "metadata": {},
     "output_type": "display_data"
    },
    {
     "data": {
      "image/svg+xml": [
       "<?xml version=\"1.0\" encoding=\"UTF-8\" standalone=\"no\"?>\n",
       "<!DOCTYPE svg PUBLIC \"-//W3C//DTD SVG 1.1//EN\"\n",
       " \"http://www.w3.org/Graphics/SVG/1.1/DTD/svg11.dtd\">\n",
       "<!-- Generated by graphviz version 2.43.0 (0)\n",
       " -->\n",
       "<!-- Title: kfp Pages: 1 -->\n",
       "<svg width=\"8pt\" height=\"8pt\"\n",
       " viewBox=\"0.00 0.00 8.00 8.00\" xmlns=\"http://www.w3.org/2000/svg\" xmlns:xlink=\"http://www.w3.org/1999/xlink\">\n",
       "<g id=\"graph0\" class=\"graph\" transform=\"scale(1 1) rotate(0) translate(4 4)\">\n",
       "<title>kfp</title>\n",
       "<polygon fill=\"white\" stroke=\"transparent\" points=\"-4,4 -4,-4 4,-4 4,4 -4,4\"/>\n",
       "</g>\n",
       "</svg>\n"
      ],
      "text/plain": [
       "<graphviz.graphs.Digraph at 0x7fc789dd5370>"
      ]
     },
     "metadata": {},
     "output_type": "display_data"
    },
    {
     "name": "stdout",
     "output_type": "stream",
     "text": [
      "> 2025-02-03 23:31:27,564 [info] Started run workflow cicd-flow-deploy with run id = '19b60085-fbdb-4c71-9cdf-49e8d8280ca7' by kfp engine\n",
      "> 2025-02-03 23:31:27,565 [info] Waiting for pipeline run completion: {\"project\":\"cicd-flow\",\"run_id\":\"19b60085-fbdb-4c71-9cdf-49e8d8280ca7\"}\n"
     ]
    },
    {
     "data": {
      "image/svg+xml": [
       "<?xml version=\"1.0\" encoding=\"UTF-8\" standalone=\"no\"?>\n",
       "<!DOCTYPE svg PUBLIC \"-//W3C//DTD SVG 1.1//EN\"\n",
       " \"http://www.w3.org/Graphics/SVG/1.1/DTD/svg11.dtd\">\n",
       "<!-- Generated by graphviz version 2.43.0 (0)\n",
       " -->\n",
       "<!-- Title: kfp Pages: 1 -->\n",
       "<svg width=\"216pt\" height=\"188pt\"\n",
       " viewBox=\"0.00 0.00 215.69 188.00\" xmlns=\"http://www.w3.org/2000/svg\" xmlns:xlink=\"http://www.w3.org/1999/xlink\">\n",
       "<g id=\"graph0\" class=\"graph\" transform=\"scale(1 1) rotate(0) translate(4 184)\">\n",
       "<title>kfp</title>\n",
       "<polygon fill=\"white\" stroke=\"transparent\" points=\"-4,4 -4,-184 211.69,-184 211.69,4 -4,4\"/>\n",
       "<!-- gitops&#45;deployment&#45;pipeline&#45;2r5h4&#45;1165320234 -->\n",
       "<g id=\"node1\" class=\"node\">\n",
       "<title>gitops&#45;deployment&#45;pipeline&#45;2r5h4&#45;1165320234</title>\n",
       "<polygon fill=\"green\" stroke=\"black\" points=\"122,-108 4,-108 0,-104 0,-72 118,-72 122,-76 122,-108\"/>\n",
       "<polyline fill=\"none\" stroke=\"black\" points=\"118,-104 0,-104 \"/>\n",
       "<polyline fill=\"none\" stroke=\"black\" points=\"118,-104 118,-72 \"/>\n",
       "<polyline fill=\"none\" stroke=\"black\" points=\"118,-104 122,-108 \"/>\n",
       "<text text-anchor=\"middle\" x=\"61\" y=\"-86.3\" font-family=\"Times,serif\" font-size=\"14.00\">deploy&#45;serving</text>\n",
       "</g>\n",
       "<!-- gitops&#45;deployment&#45;pipeline&#45;2r5h4&#45;2846591433 -->\n",
       "<g id=\"node2\" class=\"node\">\n",
       "<title>gitops&#45;deployment&#45;pipeline&#45;2r5h4&#45;2846591433</title>\n",
       "<ellipse fill=\"green\" stroke=\"black\" cx=\"105\" cy=\"-18\" rx=\"102.88\" ry=\"18\"/>\n",
       "<text text-anchor=\"middle\" x=\"105\" y=\"-14.3\" font-family=\"Times,serif\" font-size=\"14.00\">model&#45;server&#45;tester</text>\n",
       "</g>\n",
       "<!-- gitops&#45;deployment&#45;pipeline&#45;2r5h4&#45;1165320234&#45;&gt;gitops&#45;deployment&#45;pipeline&#45;2r5h4&#45;2846591433 -->\n",
       "<g id=\"edge1\" class=\"edge\">\n",
       "<title>gitops&#45;deployment&#45;pipeline&#45;2r5h4&#45;1165320234&#45;&gt;gitops&#45;deployment&#45;pipeline&#45;2r5h4&#45;2846591433</title>\n",
       "<path fill=\"none\" stroke=\"black\" d=\"M71.88,-71.7C76.99,-63.56 83.2,-53.69 88.84,-44.7\"/>\n",
       "<polygon fill=\"black\" stroke=\"black\" points=\"91.89,-46.43 94.25,-36.1 85.96,-42.71 91.89,-46.43\"/>\n",
       "</g>\n",
       "<!-- gitops&#45;deployment&#45;pipeline&#45;2r5h4&#45;779077419 -->\n",
       "<g id=\"node3\" class=\"node\">\n",
       "<title>gitops&#45;deployment&#45;pipeline&#45;2r5h4&#45;779077419</title>\n",
       "<ellipse fill=\"green\" stroke=\"black\" cx=\"105\" cy=\"-162\" rx=\"73.39\" ry=\"18\"/>\n",
       "<text text-anchor=\"middle\" x=\"105\" y=\"-158.3\" font-family=\"Times,serif\" font-size=\"14.00\">get&#45;model&#45;uri</text>\n",
       "</g>\n",
       "<!-- gitops&#45;deployment&#45;pipeline&#45;2r5h4&#45;779077419&#45;&gt;gitops&#45;deployment&#45;pipeline&#45;2r5h4&#45;1165320234 -->\n",
       "<g id=\"edge2\" class=\"edge\">\n",
       "<title>gitops&#45;deployment&#45;pipeline&#45;2r5h4&#45;779077419&#45;&gt;gitops&#45;deployment&#45;pipeline&#45;2r5h4&#45;1165320234</title>\n",
       "<path fill=\"none\" stroke=\"black\" d=\"M94.35,-144.05C89.24,-135.92 83,-126 77.31,-116.94\"/>\n",
       "<polygon fill=\"black\" stroke=\"black\" points=\"80.14,-114.88 71.86,-108.28 74.22,-118.6 80.14,-114.88\"/>\n",
       "</g>\n",
       "<!-- gitops&#45;deployment&#45;pipeline&#45;2r5h4&#45;779077419&#45;&gt;gitops&#45;deployment&#45;pipeline&#45;2r5h4&#45;2846591433 -->\n",
       "<g id=\"edge3\" class=\"edge\">\n",
       "<title>gitops&#45;deployment&#45;pipeline&#45;2r5h4&#45;779077419&#45;&gt;gitops&#45;deployment&#45;pipeline&#45;2r5h4&#45;2846591433</title>\n",
       "<path fill=\"none\" stroke=\"black\" d=\"M115.78,-144.08C121.53,-134.03 128.03,-120.78 131,-108 134.62,-92.41 134.62,-87.59 131,-72 128.85,-62.72 124.82,-53.18 120.58,-44.81\"/>\n",
       "<polygon fill=\"black\" stroke=\"black\" points=\"123.61,-43.05 115.78,-35.92 117.45,-46.38 123.61,-43.05\"/>\n",
       "</g>\n",
       "</g>\n",
       "</svg>\n"
      ],
      "text/plain": [
       "<graphviz.graphs.Digraph at 0x7fc78b5b4fd0>"
      ]
     },
     "metadata": {},
     "output_type": "display_data"
    },
    {
     "data": {
      "text/html": [
       "<h2>Run Results</h2><h3>[info] Workflow 19b60085-fbdb-4c71-9cdf-49e8d8280ca7 finished, state=Succeeded</h3><br>click the hyper links below to see detailed results<br><table border=\"1\" class=\"dataframe\">\n",
       "  <thead>\n",
       "    <tr style=\"text-align: right;\">\n",
       "      <th>uid</th>\n",
       "      <th>start</th>\n",
       "      <th>state</th>\n",
       "      <th>kind</th>\n",
       "      <th>name</th>\n",
       "      <th>parameters</th>\n",
       "      <th>results</th>\n",
       "    </tr>\n",
       "  </thead>\n",
       "  <tbody>\n",
       "    <tr>\n",
       "      <td><div title=\"9477d1831e2343d2889e7bcfb5bc1533\"><a href=\"https://dashboard.default-tenant.app.cst-360.iguazio-cd0.com/mlprojects/cicd-flow/jobs/monitor/9477d1831e2343d2889e7bcfb5bc1533/overview\" target=\"_blank\" >...b5bc1533</a></div></td>\n",
       "      <td>Feb 03 23:33:34</td>\n",
       "      <td>completed</td>\n",
       "      <td>run</td>\n",
       "      <td>model-server-tester</td>\n",
       "      <td><div class=\"dictlist\">addr=http://cicd-flow-serving.default-tenant.app.cst-360.iguazio-cd0.com/</div><div class=\"dictlist\">label_column=target</div><div class=\"dictlist\">model=model</div></td>\n",
       "      <td><div class=\"dictlist\">total_tests=20</div><div class=\"dictlist\">errors=0</div><div class=\"dictlist\">match=10</div><div class=\"dictlist\">avg_latency=36767</div><div class=\"dictlist\">min_latency=34400</div><div class=\"dictlist\">max_latency=40425</div></td>\n",
       "    </tr>\n",
       "    <tr>\n",
       "      <td><div title=\"efe88c2c3fbe4516a9db5c7acac9042e\"><a href=\"https://dashboard.default-tenant.app.cst-360.iguazio-cd0.com/mlprojects/cicd-flow/jobs/monitor/efe88c2c3fbe4516a9db5c7acac9042e/overview\" target=\"_blank\" >...cac9042e</a></div></td>\n",
       "      <td>Feb 03 23:31:34</td>\n",
       "      <td>completed</td>\n",
       "      <td>run</td>\n",
       "      <td>get-model-uri</td>\n",
       "      <td><div class=\"dictlist\">model_name=model</div><div class=\"dictlist\">model_tag=challenger</div></td>\n",
       "      <td><div class=\"dictlist\">model_uri=store://models/cicd-flow/model#0:challenger</div><div class=\"dictlist\">test_set_uri=s3://iguazio-demo/projects/cicd-flow/artifacts/d743ad84-8616-4fe9-a082-c6dc1567a717/train/1/test_set.parquet</div></td>\n",
       "    </tr>\n",
       "  </tbody>\n",
       "</table>"
      ],
      "text/plain": [
       "<IPython.core.display.HTML object>"
      ]
     },
     "metadata": {},
     "output_type": "display_data"
    }
   ],
   "source": [
    "run_id = project.run(\n",
    "    name=\"deploy\",\n",
    "    arguments=deploy_config,\n",
    "    dirty=True,\n",
    "    watch=True\n",
    ")"
   ]
  },
  {
   "cell_type": "markdown",
   "metadata": {},
   "source": [
    "### Invoke Model"
   ]
  },
  {
   "cell_type": "code",
   "execution_count": 18,
   "metadata": {},
   "outputs": [
    {
     "data": {
      "text/html": [
       "<div>\n",
       "<style scoped>\n",
       "    .dataframe tbody tr th:only-of-type {\n",
       "        vertical-align: middle;\n",
       "    }\n",
       "\n",
       "    .dataframe tbody tr th {\n",
       "        vertical-align: top;\n",
       "    }\n",
       "\n",
       "    .dataframe thead th {\n",
       "        text-align: right;\n",
       "    }\n",
       "</style>\n",
       "<table border=\"1\" class=\"dataframe\">\n",
       "  <thead>\n",
       "    <tr style=\"text-align: right;\">\n",
       "      <th></th>\n",
       "      <th>sex_female</th>\n",
       "      <th>sex_male</th>\n",
       "      <th>cp_asymtomatic</th>\n",
       "      <th>cp_atypical_angina</th>\n",
       "      <th>cp_non_anginal_pain</th>\n",
       "      <th>cp_typical_angina</th>\n",
       "      <th>slope_downsloping</th>\n",
       "      <th>slope_flat</th>\n",
       "      <th>slope_upsloping</th>\n",
       "      <th>thal_fixed_defect</th>\n",
       "      <th>...</th>\n",
       "      <th>restecg_st-t_wave_abnormality</th>\n",
       "      <th>age</th>\n",
       "      <th>exang</th>\n",
       "      <th>fbs</th>\n",
       "      <th>trestbps</th>\n",
       "      <th>chol</th>\n",
       "      <th>thalach</th>\n",
       "      <th>oldpeak</th>\n",
       "      <th>ca</th>\n",
       "      <th>target</th>\n",
       "    </tr>\n",
       "  </thead>\n",
       "  <tbody>\n",
       "    <tr>\n",
       "      <th>0</th>\n",
       "      <td>0.0</td>\n",
       "      <td>1.0</td>\n",
       "      <td>0.0</td>\n",
       "      <td>0.0</td>\n",
       "      <td>0.0</td>\n",
       "      <td>1.0</td>\n",
       "      <td>0.0</td>\n",
       "      <td>1.0</td>\n",
       "      <td>0.0</td>\n",
       "      <td>0.0</td>\n",
       "      <td>...</td>\n",
       "      <td>0.0</td>\n",
       "      <td>54.0</td>\n",
       "      <td>1.0</td>\n",
       "      <td>0.0</td>\n",
       "      <td>122.0</td>\n",
       "      <td>286.0</td>\n",
       "      <td>116.0</td>\n",
       "      <td>3.2</td>\n",
       "      <td>2.0</td>\n",
       "      <td>0.0</td>\n",
       "    </tr>\n",
       "    <tr>\n",
       "      <th>1</th>\n",
       "      <td>0.0</td>\n",
       "      <td>1.0</td>\n",
       "      <td>0.0</td>\n",
       "      <td>0.0</td>\n",
       "      <td>0.0</td>\n",
       "      <td>1.0</td>\n",
       "      <td>0.0</td>\n",
       "      <td>1.0</td>\n",
       "      <td>0.0</td>\n",
       "      <td>0.0</td>\n",
       "      <td>...</td>\n",
       "      <td>0.0</td>\n",
       "      <td>58.0</td>\n",
       "      <td>1.0</td>\n",
       "      <td>0.0</td>\n",
       "      <td>128.0</td>\n",
       "      <td>216.0</td>\n",
       "      <td>131.0</td>\n",
       "      <td>2.2</td>\n",
       "      <td>3.0</td>\n",
       "      <td>0.0</td>\n",
       "    </tr>\n",
       "    <tr>\n",
       "      <th>2</th>\n",
       "      <td>0.0</td>\n",
       "      <td>1.0</td>\n",
       "      <td>0.0</td>\n",
       "      <td>0.0</td>\n",
       "      <td>1.0</td>\n",
       "      <td>0.0</td>\n",
       "      <td>1.0</td>\n",
       "      <td>0.0</td>\n",
       "      <td>0.0</td>\n",
       "      <td>0.0</td>\n",
       "      <td>...</td>\n",
       "      <td>0.0</td>\n",
       "      <td>54.0</td>\n",
       "      <td>0.0</td>\n",
       "      <td>0.0</td>\n",
       "      <td>150.0</td>\n",
       "      <td>232.0</td>\n",
       "      <td>165.0</td>\n",
       "      <td>1.6</td>\n",
       "      <td>0.0</td>\n",
       "      <td>1.0</td>\n",
       "    </tr>\n",
       "    <tr>\n",
       "      <th>3</th>\n",
       "      <td>0.0</td>\n",
       "      <td>1.0</td>\n",
       "      <td>0.0</td>\n",
       "      <td>0.0</td>\n",
       "      <td>0.0</td>\n",
       "      <td>1.0</td>\n",
       "      <td>0.0</td>\n",
       "      <td>1.0</td>\n",
       "      <td>0.0</td>\n",
       "      <td>0.0</td>\n",
       "      <td>...</td>\n",
       "      <td>0.0</td>\n",
       "      <td>60.0</td>\n",
       "      <td>1.0</td>\n",
       "      <td>0.0</td>\n",
       "      <td>130.0</td>\n",
       "      <td>206.0</td>\n",
       "      <td>132.0</td>\n",
       "      <td>2.4</td>\n",
       "      <td>2.0</td>\n",
       "      <td>0.0</td>\n",
       "    </tr>\n",
       "    <tr>\n",
       "      <th>4</th>\n",
       "      <td>1.0</td>\n",
       "      <td>0.0</td>\n",
       "      <td>0.0</td>\n",
       "      <td>0.0</td>\n",
       "      <td>0.0</td>\n",
       "      <td>1.0</td>\n",
       "      <td>1.0</td>\n",
       "      <td>0.0</td>\n",
       "      <td>0.0</td>\n",
       "      <td>0.0</td>\n",
       "      <td>...</td>\n",
       "      <td>1.0</td>\n",
       "      <td>62.0</td>\n",
       "      <td>0.0</td>\n",
       "      <td>0.0</td>\n",
       "      <td>124.0</td>\n",
       "      <td>209.0</td>\n",
       "      <td>163.0</td>\n",
       "      <td>0.0</td>\n",
       "      <td>0.0</td>\n",
       "      <td>1.0</td>\n",
       "    </tr>\n",
       "  </tbody>\n",
       "</table>\n",
       "<p>5 rows × 24 columns</p>\n",
       "</div>"
      ],
      "text/plain": [
       "   sex_female  sex_male  cp_asymtomatic  cp_atypical_angina  \\\n",
       "0         0.0       1.0             0.0                 0.0   \n",
       "1         0.0       1.0             0.0                 0.0   \n",
       "2         0.0       1.0             0.0                 0.0   \n",
       "3         0.0       1.0             0.0                 0.0   \n",
       "4         1.0       0.0             0.0                 0.0   \n",
       "\n",
       "   cp_non_anginal_pain  cp_typical_angina  slope_downsloping  slope_flat  \\\n",
       "0                  0.0                1.0                0.0         1.0   \n",
       "1                  0.0                1.0                0.0         1.0   \n",
       "2                  1.0                0.0                1.0         0.0   \n",
       "3                  0.0                1.0                0.0         1.0   \n",
       "4                  0.0                1.0                1.0         0.0   \n",
       "\n",
       "   slope_upsloping  thal_fixed_defect  ...  restecg_st-t_wave_abnormality  \\\n",
       "0              0.0                0.0  ...                            0.0   \n",
       "1              0.0                0.0  ...                            0.0   \n",
       "2              0.0                0.0  ...                            0.0   \n",
       "3              0.0                0.0  ...                            0.0   \n",
       "4              0.0                0.0  ...                            1.0   \n",
       "\n",
       "    age  exang  fbs  trestbps   chol  thalach  oldpeak   ca  target  \n",
       "0  54.0    1.0  0.0     122.0  286.0    116.0      3.2  2.0     0.0  \n",
       "1  58.0    1.0  0.0     128.0  216.0    131.0      2.2  3.0     0.0  \n",
       "2  54.0    0.0  0.0     150.0  232.0    165.0      1.6  0.0     1.0  \n",
       "3  60.0    1.0  0.0     130.0  206.0    132.0      2.4  2.0     0.0  \n",
       "4  62.0    0.0  0.0     124.0  209.0    163.0      0.0  0.0     1.0  \n",
       "\n",
       "[5 rows x 24 columns]"
      ]
     },
     "metadata": {},
     "output_type": "display_data"
    }
   ],
   "source": [
    "# Get serving function\n",
    "serving_fn = project.get_function(\"serving\")\n",
    "model_name = config.deploy_model_name\n",
    "label_column = config.label_column\n",
    "\n",
    "# Get test set\n",
    "df = project.get_artifact(\"data-process-data_test\").to_dataitem().as_df()\n",
    "display(df.head())\n",
    "\n",
    "# Transform to list\n",
    "# Get training set as list\n",
    "data = df.drop(label_column, axis=1).to_dict(orient=\"split\")[\"data\"]"
   ]
  },
  {
   "cell_type": "code",
   "execution_count": 19,
   "metadata": {},
   "outputs": [
    {
     "name": "stdout",
     "output_type": "stream",
     "text": [
      "> 2025-02-03 23:34:03,921 [info] Invoking function: {\"method\":\"POST\",\"path\":\"http://nuclio-cicd-flow-serving.default-tenant.svc.cluster.local:8080/v2/models/model/infer\"}\n"
     ]
    },
    {
     "data": {
      "text/plain": [
       "{'id': '4d713478-d683-4176-b68c-c800089b6120',\n",
       " 'model_name': 'model',\n",
       " 'outputs': [0.0, 0.0, 1.0, 0.0, 1.0],\n",
       " 'timestamp': '2025-02-03 23:34:03.936233+00:00',\n",
       " 'model_version': 'challenger'}"
      ]
     },
     "execution_count": 19,
     "metadata": {},
     "output_type": "execute_result"
    }
   ],
   "source": [
    "serving_fn.invoke(\n",
    "    f\"v2/models/{model_name}/infer\", json.dumps({\"inputs\": data[:5]})\n",
    ")"
   ]
  }
 ],
 "metadata": {
  "kernelspec": {
   "display_name": "mlrun-extended",
   "language": "python",
   "name": "conda-env-mlrun-extended-py"
  },
  "language_info": {
   "codemirror_mode": {
    "name": "ipython",
    "version": 3
   },
   "file_extension": ".py",
   "mimetype": "text/x-python",
   "name": "python",
   "nbconvert_exporter": "python",
   "pygments_lexer": "ipython3",
   "version": "3.9.18"
  }
 },
 "nbformat": 4,
 "nbformat_minor": 4
}
